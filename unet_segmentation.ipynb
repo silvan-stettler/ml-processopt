{
 "cells": [
  {
   "cell_type": "code",
   "execution_count": null,
   "metadata": {},
   "outputs": [],
   "source": [
    "import torch\n",
    "import torch.nn.functional as F\n",
    "from torchvision import transforms\n",
    "from torch.utils.data import DataLoader\n",
    "import matplotlib.pyplot as plt\n",
    "from unet.unet_helpers import *\n",
    "from unet.unet import UNet\n",
    "from unet.utils import visualize_sample"
   ]
  },
  {
   "cell_type": "code",
   "execution_count": null,
   "metadata": {},
   "outputs": [],
   "source": [
    "labels = [0,1,2]\n",
    "label_thresh = [10,240]\n",
    "mask_label_info = [labels, label_thresh]\n",
    "rescale_to = (128,128)\n",
    "split_samples = None\n",
    "top = True\n",
    "\n",
    "use_set = 'set23'\n",
    "bottom = './images/etching/'+use_set+'/bottom/'\n",
    "top = './images/etching/'+use_set+'/top/'\n",
    "mask = './images/etching/'+use_set+'/masks/'\n",
    "# Original images\n",
    "transformations = transforms.Compose([Rescale(rescale_to), ToTensor()])\n",
    "etching_dataset = MicroscopeImageDataset(img_dir=[bottom, top], \n",
    "                                         mask_dir=mask,\n",
    "                                         mask_label_info=mask_label_info, read_top=top,\n",
    "                                         transf=transformations, split_samples=split_samples)\n",
    "\n",
    "# Contrast, brightness adjusted\n",
    "transformations = transforms.Compose([Rescale(rescale_to), \n",
    "                                      BrightnessContrastAdjustment((-0.3,1.3), 'brightness'), \n",
    "                                      ToTensor()])\n",
    "etching_dataset_bc = MicroscopeImageDataset(img_dir=[bottom, top], \n",
    "                                         mask_dir=mask,\n",
    "                                         mask_label_info=mask_label_info, read_top=top,\n",
    "                                         transf=transformations, split_samples=split_samples)\n",
    "\n",
    "# Rotated by 90 degrees\n",
    "transformations = transforms.Compose([Rescale(rescale_to), \n",
    "                                      Rotate(90), \n",
    "                                      ToTensor()])\n",
    "etching_dataset_rotate = MicroscopeImageDataset(img_dir=[bottom, top], \n",
    "                                         mask_dir=mask,\n",
    "                                         mask_label_info=mask_label_info, read_top=top,\n",
    "                                         transf=transformations, split_samples=split_samples)\n",
    "\n",
    "combined_dset = ConcatDatasets(etching_dataset, etching_dataset_bc, etching_dataset_rotate)\n",
    "print(\"Total nbr of samples: {0}\".format(len(combined_dset)))"
   ]
  },
  {
   "cell_type": "code",
   "execution_count": null,
   "metadata": {},
   "outputs": [],
   "source": [
    "# Enable if only one channel input\n",
    "#combined_dset.top()"
   ]
  },
  {
   "cell_type": "code",
   "execution_count": null,
   "metadata": {},
   "outputs": [],
   "source": [
    "# U-Net definition\n",
    "\n",
    "#for i,sample in enumerate(combined_dset):\n",
    " #   print(\"Sample {0}\".format(i+1))\n",
    "  #  print(list(sample['image'].shape))\n",
    "input_shape = list(combined_dset[0]['image'].shape)\n",
    "print(input_shape)\n",
    "depth = 3\n",
    "n_filters = 2\n",
    "\n",
    "model = UNet(input_shape, n_classes=len(labels), depth=depth, wf=n_filters, padding=2, kernel_size=5, up_mode='upconv', batch_norm=True, name='test')\n",
    "model.summary()"
   ]
  },
  {
   "cell_type": "code",
   "execution_count": null,
   "metadata": {},
   "outputs": [],
   "source": [
    "# Train parameter\n",
    "batch_size = 23\n",
    "epochs = 25\n",
    "eta = 3e-2/batch_size\n",
    "lambda_l2 = 1e-3\n",
    "gamma = 0.7\n",
    "\n",
    "# U-Net definition\n",
    "device = torch.device('cuda' if torch.cuda.is_available() else 'cpu')\n",
    "model = model.to(device)\n",
    "\n",
    "optim = torch.optim.SGD(model.parameters(), lr=eta, momentum=gamma)\n",
    "loss_weights = torch.Tensor([1,4,2])\n",
    "criterion = torch.nn.CrossEntropyLoss()\n",
    "dataloader = DataLoader(combined_dset, batch_size=batch_size,\n",
    "                        shuffle=True, num_workers=4)\n",
    "\n",
    "avg_epoch_loss, model = train_unet(model, device, optim, criterion, dataloader, \n",
    "                                   epochs=epochs, lambda_=1e-3, reg_type=None, \n",
    "                                   save=False)\n"
   ]
  },
  {
   "cell_type": "code",
   "execution_count": null,
   "metadata": {},
   "outputs": [],
   "source": [
    "# Visualize\n",
    "import numpy as np\n",
    "fig, ax = plt.subplots(figsize=(14,8))\n",
    "ax.plot(np.arange(epochs), np.array(avg_epoch_loss), linewidth=2)\n",
    "ax.set_xlabel(\"Epoch\")\n",
    "ax.set_ylabel(\"CrossEntropyLoss\")"
   ]
  },
  {
   "cell_type": "code",
   "execution_count": null,
   "metadata": {},
   "outputs": [],
   "source": [
    "# Infere a sample\n",
    "fig = plt.figure(figsize=(14,8))\n",
    "i = 27\n",
    "sample, infered_mask = combined_dset.infer(i, model)\n",
    "axes = visualize_sample(fig, sample, infered_mask)\n"
   ]
  },
  {
   "cell_type": "markdown",
   "metadata": {},
   "source": [
    "Infere on test dataset"
   ]
  },
  {
   "cell_type": "code",
   "execution_count": null,
   "metadata": {},
   "outputs": [],
   "source": [
    "transformations = transforms.Compose([Rescale((256,256)), ToTensor()])\n",
    "test_dataset = MicroscopeImageDataset(img_dir=['./images/etching/test/bottom/','./images/etching/test/top/'], \n",
    "                                         mask_dir=None,\n",
    "                                         mask_label_info=mask_label_info, read_top=True,\n",
    "                                         transf=transformations, split_samples=split_samples)"
   ]
  },
  {
   "cell_type": "code",
   "execution_count": null,
   "metadata": {},
   "outputs": [],
   "source": [
    "test_dataset.bottom()"
   ]
  },
  {
   "cell_type": "code",
   "execution_count": null,
   "metadata": {},
   "outputs": [],
   "source": [
    "fig = plt.figure(figsize=(14,8))\n",
    "i = 2\n",
    "sample, infered_mask = test_dataset.infer(i, model)\n",
    "axes = visualize_sample(fig, sample, infered_mask)\n",
    "plt.show()"
   ]
  },
  {
   "cell_type": "code",
   "execution_count": null,
   "metadata": {},
   "outputs": [],
   "source": []
  }
 ],
 "metadata": {
  "kernelspec": {
   "display_name": "Python 3",
   "language": "python",
   "name": "python3"
  },
  "language_info": {
   "codemirror_mode": {
    "name": "ipython",
    "version": 3
   },
   "file_extension": ".py",
   "mimetype": "text/x-python",
   "name": "python",
   "nbconvert_exporter": "python",
   "pygments_lexer": "ipython3",
   "version": "3.6.4"
  }
 },
 "nbformat": 4,
 "nbformat_minor": 2
}
