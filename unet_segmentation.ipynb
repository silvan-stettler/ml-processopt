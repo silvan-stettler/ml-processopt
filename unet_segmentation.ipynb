{
 "cells": [
  {
   "cell_type": "code",
   "execution_count": null,
   "metadata": {},
   "outputs": [],
   "source": [
    "%load_ext autoreload\n",
    "%autoreload 2"
   ]
  },
  {
   "cell_type": "code",
   "execution_count": null,
   "metadata": {},
   "outputs": [],
   "source": [
    "import torch\n",
    "import torch.nn.functional as F\n",
    "from torchvision import transforms, utils\n",
    "from torch.utils.data import DataLoader\n",
    "import matplotlib.pyplot as plt\n",
    "from unet.unet_helpers import MicroscopeImageDataset, ToTensor, Rescale, train_unet\n",
    "from unet.unet import UNet"
   ]
  },
  {
   "cell_type": "code",
   "execution_count": null,
   "metadata": {},
   "outputs": [],
   "source": [
    "labels = [0,1,2]\n",
    "label_thresh = [20,220]\n",
    "mask_label_info = [labels, label_thresh]\n",
    "transformations = transforms.Compose([Rescale((128,256)), ToTensor()])\n",
    "etching_dataset = MicroscopeImageDataset(img_dir=['./images/etching/set2/bottom/','./images/etching/set2/top/'], \n",
    "                                         mask_dir='./images/etching/set2/masks/',\n",
    "                                         mask_label_info=mask_label_info, read_top=True,\n",
    "                                         transf=transformations, split_samples=(3,3))"
   ]
  },
  {
   "cell_type": "code",
   "execution_count": null,
   "metadata": {},
   "outputs": [],
   "source": [
    "# Show the samples\n",
    "fig = plt.figure(figsize=(50,35))\n",
    "\n",
    "for i in range(len(etching_dataset)):\n",
    "    sample = etching_dataset[i]\n",
    "    image, mask = sample['image'], sample['mask']\n",
    "    print(i, image.shape, mask.shape)\n",
    "for i in range(len(etching_dataset)):\n",
    "    sample = etching_dataset[i]\n",
    "    image, mask = sample['image'], sample['mask']\n",
    "\n",
    "    ax = plt.subplot(10, 3, 3*i + 1)\n",
    "    plt.imshow(image[0,:,:], cmap='gray', vmin=0, vmax=1)\n",
    "    ax.set_title('Sample #{} trench bottom'.format(i))\n",
    "    ax.axis('off')\n",
    "    \n",
    "    ax = plt.subplot(10, 3, 3*i + 2)\n",
    "    plt.tight_layout()\n",
    "    plt.imshow(image[1,:,:], cmap='gray', vmin=0, vmax=1)\n",
    "    ax.set_title('Sample #{} top'.format(i))\n",
    "    ax.axis('off')\n",
    "    \n",
    "    ax = plt.subplot(10, 3, 3*i + 3)\n",
    "    plt.tight_layout()\n",
    "    plt.imshow(mask, cmap='gray', vmin=0, vmax=2)\n",
    "    ax.set_title('Sample #{} mask'.format(i))\n",
    "    ax.axis('off')\n",
    "\n",
    "    plt.tight_layout()\n",
    "    if i == 9:\n",
    "        plt.show()\n",
    "        break"
   ]
  },
  {
   "cell_type": "code",
   "execution_count": null,
   "metadata": {},
   "outputs": [],
   "source": [
    "# Train parameter\n",
    "epochs = 25\n",
    "eta = 5e-3\n",
    "lambda_l2 = 1e-3\n",
    "\n",
    "# U-Net definition\n",
    "device = torch.device('cuda' if torch.cuda.is_available() else 'cpu')\n",
    "model = UNet(in_channels=2, n_classes=3, depth=3, wf=3, padding=True, up_mode='upconv', batch_norm=True).to(device)\n",
    "optim = torch.optim.Adam(model.parameters(), lr=eta)\n",
    "criterion = torch.nn.CrossEntropyLoss()\n",
    "dataloader = DataLoader(etching_dataset, batch_size=4,\n",
    "                        shuffle=True, num_workers=4)\n",
    "\n",
    "avg_epoch_loss, model = train_unet(model, device, optim, criterion, dataloader, \n",
    "                                   epochs=epochs, lambda_=1e-3, reg_type='l2', \n",
    "                                   save=False)\n"
   ]
  },
  {
   "cell_type": "code",
   "execution_count": null,
   "metadata": {},
   "outputs": [],
   "source": [
    "# Visualize\n",
    "import numpy as np\n",
    "fig, ax = plt.subplots(figsize=(14,8))\n",
    "ax.plot(np.arange(epochs), np.array(avg_epoch_loss), linewidth=2)\n",
    "ax.set_xlabel(\"Epoch\")\n",
    "ax.set_ylabel(\"CrossEntropyLoss\")"
   ]
  },
  {
   "cell_type": "code",
   "execution_count": null,
   "metadata": {},
   "outputs": [],
   "source": []
  }
 ],
 "metadata": {
  "kernelspec": {
   "display_name": "Python 3",
   "language": "python",
   "name": "python3"
  },
  "language_info": {
   "codemirror_mode": {
    "name": "ipython",
    "version": 3
   },
   "file_extension": ".py",
   "mimetype": "text/x-python",
   "name": "python",
   "nbconvert_exporter": "python",
   "pygments_lexer": "ipython3",
   "version": "3.6.4"
  }
 },
 "nbformat": 4,
 "nbformat_minor": 2
}
